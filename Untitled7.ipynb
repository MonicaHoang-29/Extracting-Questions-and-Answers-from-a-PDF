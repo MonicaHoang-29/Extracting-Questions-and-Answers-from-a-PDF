{
 "cells": [
  {
   "cell_type": "code",
   "execution_count": 1,
   "id": "95e0bbcc",
   "metadata": {},
   "outputs": [
    {
     "data": {
      "text/plain": [
       "'The f ollowing Information was taken from About.com Guide written by Allen Grove  \\nCollege Interview  Questions  \\n12 Questions You Should Be Ready to Answer in Your College Interview  \\nMost college interview questions are meant to help you and the interviewer find out if the college \\nis a good match for you. Rarely will you get a question that  puts you on the spot or tries to make \\nyou feel stupid. Remember, the college is trying to make a good impression too. Use the \\ninterview to show off your personality in ways that aren\\'t possible on the application.  \\nBelow are some typical questions and som e suggestions for answering them.  \\n1. Tell me about yourself.  \\nThis question seems easier than it is. How do you reduce your whole life to  a few sentences? \\nAnd it\\'s hard to avoid commonplace answers like \"I\\'m friendly\" or \"I\\'m a good student.\" Of \\ncourse you want to demonstrate that you\\'re friendly and studious, but try also to say something \\nmemorable here that really makes you different from  other college applicants. Can you hold \\nyour breath longer than anyone in your school? Do you have a huge collection of Pez \\ndispensers? Do you have unusual cravings for sushi? Read more tips for this question...  \\n2. Why are you interested in our college?  \\nBe specific when ans wering this, and show that you\\'ve done your research. Also, avoid answers \\nlike \"I want to make a lot of money\" or \"Graduates of your college get good job placement.\" You \\nwant to highlight your intellectual interests, not your materialistic desires. What sp ecifically about \\nthe college distinguishes it from other schools you\\'re considering? Read more tips on this \\nquestion...  \\n3. What can I tell you about our college?  \\nYou can almost guarantee that your interviewer will provide an opportunity for you to ask \\nquestions. Make sure you have some, and make sure your questions are thoughtful and specific \\nto the particular college. Avoid questions like \"when is the application deadline?\" or \"how many \\nmajors do you have?\" This information is both uninteresting and readily available on the \\nschool\\'s webpage. Come up with some probing and focused questions: \"What would graduates \\nof your college say was the most valuable thing about their four years here?\" \"I read that you \\noffer a major in interdisciplinary studies. Could you tell me more about t hat?\" Read more tips on \\nthis question...  \\n4. Who in your life has most influenced you?  \\nThere are other variations of this question: Who\\'s your hero? What historical or fictional \\ncharacter would you most like to be like? This can be an awkward question if you haven\\'t \\nthough t about it, so spend a few minutes considering how you would answer. Identify a few real, \\nhistorical, and fictional characters you admire, and be prepared to articulate WHY you admire \\nthem. Read more tips on this question...  \\n5. Why do you want to major in ______________ ?  \\nRealize tha t you don\\'t need to have decided upon a major when you apply to college, and your \\ninterviewer will not be disappointed if you say you have many interests and you need to take \\nmore classes before choosing a major. However, if you have identified a potential  major, be \\nprepared to explain why. Avoid saying that you want to major in something because you\\'ll make \\na lot of money -- your passion for a subject will make you a good college student, not your \\ngreed. Read more tips on this question...  \\n The f ollowing Information was taken from About.com Guide written by Allen Grove  \\n6. What will you contribute to our campus com munity?  \\nYou\\'ll want to be specific when answering this question. An answer like \"I\\'m hard -working\" is \\nrather bland and generic. Think about what it is that makes you uniquely you. What exactly will \\nyou bring to diversify the college\\'s community? Read more tips on this question...  \\n7. Tell me about a challenge that you overcame.  \\nThis question is designed to see what kind of problem solver you are. When confronted with a \\nchallenge, how do you handle the situation? College will be full of challenges, so the college \\nwants to ma ke sure they enroll students who can handle them. Read more tips on this \\nquestion...  \\n8. What do you do for fun in your free time?  \\n\"Hangin\\' out and chillin\\'\" is a weak answer for this question. College life obviously isn\\'t all work, \\nso the admissions folks want students who  will do interesting and productive things even when \\nthey aren\\'t studying. Do you write? hike? play tennis? Use a question such as this one to show \\nthat you are well -rounded with a variety of interests.  \\n9. What do you see yourself doing 10 years from now?  \\nYou don\\'t need to pretend that you have your life figured out if you get a question like this. Very \\nfew students entering colleg e could accurately predict their future professions. However, your \\ninterviewer does want to see that you think ahead. If you can see yourself doing three different \\nthings, say so -- honesty and open -mindedness will play in your favor.  \\n10. Does your high s chool record accurately reflect your effort and ability?  \\nIn the interview or on your application, you often have an opportunity to explain a bad grade or a \\nbad semester. Be careful with this issue -- you don\\'t want to come across as a whiner or as \\nsomeone who blames others for a low grade. However, if you really did have extenuating \\ncircumstances, let the college know.  \\n11. Recommend a good book to me.  \\nThe interviewer is trying to accomplish a few things with this question. First, the question asks \\nwhether o r not you\\'ve actually read much. Second, it asks you to apply some critical skills as \\nyou articulate why a book is worth reading. And finally, your interviewer might get a good book \\nrecommendation!  \\n12. If you could do one thing in high school differently, what would it be?  \\nA question like this can turn sour if you make the mistake of dwelling on things you regret. Try to \\nput a positive spin on it. Perhaps you\\'ve always wondered if you would have enjoyed acting or \\nmusic. Maybe you would have liked to give th e student newspaper a try. Maybe, in retrospect, \\nstudying Chinese might have been more in line with your career goals than Spanish. A good \\nanswer shows that you didn\\'t have the time in high school to explore everything that is of \\ninterest to you.  \\nWhen you\\' ve mastered the 12 questions above, check out these 20 more college \\ninterview questions . \\n \\n1. What did you do this summer?  \\nThis is an easy question that an interviewer might use to get the conversation rolling. The \\nbiggest danger here is if you haven\\'t done anything productive in the summer. \"I played a lot of \\nvideo games\" isn\\'t a good answer. Even if you didn\\'t have a job or take classes, try to think of \\nsomething you have done that was a learning experience.  The f ollowing Information was taken from About.com Guide written by Allen Grove  \\n2. What do you do best?  \\nThere are lots of ways to ask this question, but the bottom line is that the interviewer wants you \\nto identify what you see as your greatest talent. There\\'s nothing wrong with ide ntifying \\nsomething that isn\\'t central to your college application. Even if you were first violin in the all -\\nstate orchestra or the starting quarterback, you can identify your best talent as making a mean \\ncherry pie or carving animal figurines out of soap. The interview can be an opportunity to show a \\nside of yourself that isn\\'t obvious on the written application.  \\n3. What do you hope to do after graduation?  \\nLots of high school students have no idea what they want to do in the future, and that\\'s okay. \\nStill, you should formulate an answer to this question. If you\\'re not sure what your career goals \\nare, say so, but provide a few possibilities.  \\n4. Why do you want to go to college?  \\nThis question is so broad and seemingly obvious that it can catch you by surprise.  Why college? \\nSteer clear of materialistic responses (\"I want to get a good job and make a lot of money\"). \\nInstead, focus on what it is that you plan to study. Chances are your particular career goals \\naren\\'t possible without a college education.  \\n5. How do you define success?  \\nHere again you want to avoid sounding too materialistic. Hopefully success means making a \\ncontribution to the world, not just your wallet.  \\n6. Who do you most admire?  \\nThis question really isn\\'t so much about who you admire but why you ad mire someone. The \\ninterviewer wants to see what character traits you most value in other people.  \\n7. What is your biggest weakness?  \\nThis is a common question, and it\\'s always a tough one to answer. It can be dangerous to be \\ntoo honest (\"I put off all my pap ers until an hour before they are due\"), but evasive answers that \\nactually present a strength often won\\'t satisfy the interviewer (\"My greatest weakness is that I \\nhave too many interests and I work too hard\"). Try to be honest here without damning yourself . \\nThe interviewer is trying to see how self -aware you are.  \\n8. Tell me about your family.  \\nWhen you interview for college, an easy question like this can help get the conversation rolling. \\nTry to be specific in your description of your family. Identify some of their funny quirks or \\nobsessions. In general, however, keep the representation positive -- you want to present \\nyourself as a generous person, not someone who is hyper -critical.  \\n9. What makes you special?  \\nOr the interview might ask, \"What makes you uniqu e?\" It\\'s a more difficult question than it might \\nat first appear. Playing a sport or getting good grades is something that many students do, so \\nsuch accomplishments aren\\'t necessarily \"special\" or \"unique.\" Try to get beyond your \\naccomplishments and think about what really makes you you.  \\n10. What can our college offer you that another college can\\'t?  \\nThis question is a little different than one asking why you want to go to a specific college. Do \\nyour research and look for the truly unique features of the col lege for which you are \\ninterviewing. Does it have unusual academic offerings? Does it have a distinctive first -year \\nprogram? Are there co -curricular or internship opportunities that can\\'t be found at other \\nschools?  The f ollowing Information was taken from About.com Guide written by Allen Grove  \\n \\n11. In college, what do you plan to do o utside of the classroom?  \\nThis is a fairly simply question, but you need to know what extracurricular opportunities exist at \\nthe college. You\\'ll look foolish saying you want to host a college radio show if the school doesn\\'t \\nhave a radio station. The bottom  line here is that the interviewer is trying to see what you will \\ncontribute to the campus community.  \\n12. What three adjectives best describe you?  \\nAvoid bland and predictable words like \"intelligent,\" \"creative\" and \"studious.\" The interviewer is \\nmore like ly to remember a student who is \"clumsy,\" \"obsessive\" and \"metaphysical.\" Be honest \\nwith your word choices, but try to find words that thousands of other applicants won\\'t choose.  \\n13. What do you think about the latest news headline?  \\nWith this question the interviewer is seeing if you are aware of major events going on in the \\nworld, and if you have thought about those events. What your exact position is on an issue isn\\'t \\nas important as the fact that you know the issues and have thought about them.  \\n14. Who i s your hero?  \\nA lot of interviews include some variation of this question. Your hero doesn\\'t have to be \\nsomeone obvious like a parent, a president or a sports star. Before the interview, spend a few \\nminutes thinking about who you most admire and why you adm ire that person.  \\n15. What historical figure do you most admire?  \\nHere, as with the \"hero\" question above, you don\\'t need to go with an obvious choice like \\nAbraham Lincoln or Gandhi. If you go with a more obscure figure, you just might be able to \\nteach your interviewer something.  \\n16. What high school experience was most important to you?  \\nWith this question the interviewer is looking to find out what experiences you most value and \\nhow well you can reflect back on high school. Be sure you are able to articulate  why the \\nexperience was important.  \\n17. Who most helped you get to where you are today?  \\nThis question is a little different than the one about a \"hero\" or the \"person you most admire.\" \\nThe interviewer is looking to see how well you can think outside of your self and acknowledge \\nthose to whom you owe a debt of gratitude.  \\n18. Tell me about your community service.  \\nMany strong college applicants have done some form of community service. Many, however, \\nsimply do it so that they can list it on their college applica tions. If the interviewer asks you about \\nyour community service, it\\'s to see why you served and what the service means to you. Think \\nabout how your service benefited your community, and also what you learned from your \\ncommunity service and how it helped yo u grow as a person.  \\n19. If you had a thousand dollars to give away, what would you do with it?  \\nThis question is a roundabout way to see what your passions are. Whatever you identify as a \\ncharity says a lot about what you most value.  \\n20. What subject in hig h school did you find the most challenging?  \\nEven if you\\'re a straight \"A\" student, chances are some subjects were more difficult than others. \\nThe interviewer is interested in learning about your challenges and how you tackled those \\nchallenges.  '"
      ]
     },
     "execution_count": 1,
     "metadata": {},
     "output_type": "execute_result"
    }
   ],
   "source": [
    "import PyPDF2\n",
    "\n",
    "# Define a function to extract text from the PDF\n",
    "def extract_text_from_pdf(pdf_path):\n",
    "    with open(pdf_path, 'rb') as file:\n",
    "        # Create a PDF reader object using PdfReader\n",
    "        pdf_reader = PyPDF2.PdfReader(file)\n",
    "        \n",
    "        # Initialize a string to hold the text content\n",
    "        text_content = \"\"\n",
    "        \n",
    "        # Loop through all the pages and extract text\n",
    "        for page in pdf_reader.pages:\n",
    "            text_content += page.extract_text()\n",
    "            \n",
    "    return text_content\n",
    "\n",
    "# Extract text from the provided PDF\n",
    "pdf_text = extract_text_from_pdf(\"College_Interview_Questions_Prep.pdf\")\n",
    "pdf_text"
   ]
  },
  {
   "cell_type": "code",
   "execution_count": 2,
   "id": "9d62b255",
   "metadata": {},
   "outputs": [],
   "source": [
    "import re\n",
    "\n",
    "def extract_qa_pairs(text_content):\n",
    "    questions = re.findall(r'(Question \\d+:.*?)(?=Answer \\d+)', text_content, re.DOTALL)\n",
    "    answers = re.findall(r'(Answer \\d+:.*?)(?=Question \\d+|$)', text_content, re.DOTALL)\n",
    "    return list(zip(questions, answers))\n",
    "\n",
    "qa_pairs = extract_qa_pairs(pdf_text)\n",
    "\n",
    "# Extract questions and answers from the PDF text\n",
    "pattern = re.compile(r'(\\d+\\.\\s)([^\\d]+?)(?=\\d+\\.\\s|\\Z)', re.S)\n",
    "matches = pattern.findall(pdf_text)"
   ]
  },
  {
   "cell_type": "code",
   "execution_count": 3,
   "id": "c714acf1",
   "metadata": {},
   "outputs": [
    {
     "name": "stdout",
     "output_type": "stream",
     "text": [
      "Question: Tell me about yourself.\n",
      "Answer: This question seems easier than it is. How do you reduce your whole life to  a few sentences? \n",
      "And it's hard to avoid commonplace answers like \"I'm friendly\" or \"I'm a good student.\" Of \n",
      "course you want to demonstrate that you're friendly and studious, but try also to say something \n",
      "memorable here that really makes you different from  other college applicants. Can you hold \n",
      "your breath longer than anyone in your school? Do you have a huge collection of Pez \n",
      "dispensers? Do you have unusual cravings for sushi? Read more tips for this question...\n",
      "==================================================\n",
      "Question: Why are you interested in our college?\n",
      "Answer: Be specific when ans wering this, and show that you've done your research. Also, avoid answers \n",
      "like \"I want to make a lot of money\" or \"Graduates of your college get good job placement.\" You \n",
      "want to highlight your intellectual interests, not your materialistic desires. What sp ecifically about \n",
      "the college distinguishes it from other schools you're considering? Read more tips on this \n",
      "question...\n",
      "==================================================\n",
      "Question: What can I tell you about our college?\n",
      "Answer: You can almost guarantee that your interviewer will provide an opportunity for you to ask \n",
      "questions. Make sure you have some, and make sure your questions are thoughtful and specific \n",
      "to the particular college. Avoid questions like \"when is the application deadline?\" or \"how many \n",
      "majors do you have?\" This information is both uninteresting and readily available on the \n",
      "school's webpage. Come up with some probing and focused questions: \"What would graduates \n",
      "of your college say was the most valuable thing about their four years here?\" \"I read that you \n",
      "offer a major in interdisciplinary studies. Could you tell me more about t hat?\" Read more tips on \n",
      "this question...\n",
      "==================================================\n",
      "Question: Who in your life has most influenced you?\n",
      "Answer: There are other variations of this question: Who's your hero? What historical or fictional \n",
      "character would you most like to be like? This can be an awkward question if you haven't \n",
      "though t about it, so spend a few minutes considering how you would answer. Identify a few real, \n",
      "historical, and fictional characters you admire, and be prepared to articulate WHY you admire \n",
      "them. Read more tips on this question...\n",
      "==================================================\n",
      "Question: Why do you want to major in ______________ ?\n",
      "Answer: Realize tha t you don't need to have decided upon a major when you apply to college, and your \n",
      "interviewer will not be disappointed if you say you have many interests and you need to take \n",
      "more classes before choosing a major. However, if you have identified a potential  major, be \n",
      "prepared to explain why. Avoid saying that you want to major in something because you'll make \n",
      "a lot of money -- your passion for a subject will make you a good college student, not your \n",
      "greed. Read more tips on this question...  \n",
      " The f ollowing Information was taken from About.com Guide written by Allen Grove\n",
      "==================================================\n"
     ]
    }
   ],
   "source": [
    "# Processing to differentiate between questions and answers\n",
    "questions_answers_processed = []\n",
    "\n",
    "for match in matches:\n",
    "    content = match[1].strip()\n",
    "    \n",
    "    # Splitting at the first occurrence of \"?\" or \".\"\n",
    "    split_content = re.split(r'(?<=[?.])', content, 1)\n",
    "    if len(split_content) == 2:\n",
    "        question = split_content[0] \n",
    "        answer = split_content[1].strip()\n",
    "    else:\n",
    "        question = content\n",
    "        answer = ''\n",
    "    \n",
    "    questions_answers_processed.append({'question': question, 'answer': answer})\n",
    "\n",
    "# Print the processed pairs\n",
    "for qa_pair in questions_answers_processed[:5]:\n",
    "    print(\"Question:\", qa_pair['question'])\n",
    "    print(\"Answer:\", qa_pair['answer'])\n",
    "    print(\"=\"*50)"
   ]
  },
  {
   "cell_type": "code",
   "execution_count": 4,
   "id": "76edd59b",
   "metadata": {},
   "outputs": [
    {
     "name": "stdout",
     "output_type": "stream",
     "text": [
      "Enter a question (or type 'exit' to quit): Tell me about yourself\n",
      "Sorry, the question was not found in the list.\n",
      "==================================================\n",
      "Enter a question (or type 'exit' to quit): Tell me about yourself.\n",
      "Answer: This question seems easier than it is. How do you reduce your whole life to  a few sentences? \n",
      "And it's hard to avoid commonplace answers like \"I'm friendly\" or \"I'm a good student.\" Of \n",
      "course you want to demonstrate that you're friendly and studious, but try also to say something \n",
      "memorable here that really makes you different from  other college applicants. Can you hold \n",
      "your breath longer than anyone in your school? Do you have a huge collection of Pez \n",
      "dispensers? Do you have unusual cravings for sushi? Read more tips for this question...\n",
      "==================================================\n",
      "Enter a question (or type 'exit' to quit): Why are you interested in our college?\n",
      "Answer: Be specific when ans wering this, and show that you've done your research. Also, avoid answers \n",
      "like \"I want to make a lot of money\" or \"Graduates of your college get good job placement.\" You \n",
      "want to highlight your intellectual interests, not your materialistic desires. What sp ecifically about \n",
      "the college distinguishes it from other schools you're considering? Read more tips on this \n",
      "question...\n",
      "==================================================\n",
      "Enter a question (or type 'exit' to quit): exit\n",
      "Goodbye!\n"
     ]
    }
   ],
   "source": [
    "def interact_with_qa(questions_answers):\n",
    "    \"\"\"Interactively display the answer for an entered question.\"\"\"\n",
    "    while True:\n",
    "        # Get user input for a question\n",
    "        user_question = input(\"Enter a question (or type 'exit' to quit): \").strip()\n",
    "        \n",
    "        # Check if the user wants to exit\n",
    "        if user_question.lower() == 'exit':\n",
    "            print(\"Goodbye!\")\n",
    "            break\n",
    "\n",
    "        # Search for the question in the list\n",
    "        matching_answer = next((qa['answer'] for qa in questions_answers if qa['question'] == user_question), None)\n",
    "        \n",
    "        # Display the answer or notify if not found\n",
    "        if matching_answer:\n",
    "            print(\"Answer:\", matching_answer)\n",
    "            print(\"=\"*50)\n",
    "        else:\n",
    "            print(\"Sorry, the question was not found in the list.\")\n",
    "            print(\"=\"*50)\n",
    "\n",
    "# Start the interactive session\n",
    "interact_with_qa(questions_answers_processed)\n"
   ]
  },
  {
   "cell_type": "code",
   "execution_count": null,
   "id": "bc8e5b58",
   "metadata": {},
   "outputs": [],
   "source": []
  }
 ],
 "metadata": {
  "kernelspec": {
   "display_name": "Python 3 (ipykernel)",
   "language": "python",
   "name": "python3"
  },
  "language_info": {
   "codemirror_mode": {
    "name": "ipython",
    "version": 3
   },
   "file_extension": ".py",
   "mimetype": "text/x-python",
   "name": "python",
   "nbconvert_exporter": "python",
   "pygments_lexer": "ipython3",
   "version": "3.9.12"
  }
 },
 "nbformat": 4,
 "nbformat_minor": 5
}
